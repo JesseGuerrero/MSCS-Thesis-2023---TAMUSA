{
 "cells": [
  {
   "cell_type": "code",
   "execution_count": 8,
   "outputs": [],
   "source": [
    "import torch\n",
    "import matplotlib.pyplot as plt\n",
    "import numpy as np \n",
    "import argparse\n",
    "import pickle \n",
    "import os\n",
    "from PIL import Image\n",
    "import json\n",
    "from os import listdir, path"
   ],
   "metadata": {
    "collapsed": false
   }
  },
  {
   "cell_type": "code",
   "execution_count": 9,
   "outputs": [],
   "source": [
    "from pycocotools.coco import COCO"
   ],
   "metadata": {
    "collapsed": false
   }
  },
  {
   "cell_type": "code",
   "execution_count": 10,
   "outputs": [],
   "source": [
    "from caption import caption_image_beam_search, caption_image_beam_search1, visualize_att"
   ],
   "metadata": {
    "collapsed": false
   }
  },
  {
   "cell_type": "code",
   "execution_count": 11,
   "outputs": [
    {
     "name": "stdout",
     "output_type": "stream",
     "text": [
      "loading annotations into memory...\n",
      "Done (t=0.03s)\n",
      "creating index...\n",
      "index created!\n"
     ]
    }
   ],
   "source": [
    "coco = COCO('./data/annotations/captions_flickr30k.json')"
   ],
   "metadata": {
    "collapsed": false
   }
  },
  {
   "cell_type": "code",
   "execution_count": 12,
   "outputs": [],
   "source": [
    "img_ids = set()\n",
    "for k in coco.anns.keys():\n",
    "    img_ids.add(coco.anns[k]['image_id'])"
   ],
   "metadata": {
    "collapsed": false
   }
  },
  {
   "cell_type": "code",
   "execution_count": 13,
   "outputs": [],
   "source": [
    "images = []\n",
    "for img_id in img_ids:\n",
    "    images.append('data/Flickr30k/flickr30k-images/'+coco.loadImgs(img_id)[0]['file_name'])"
   ],
   "metadata": {
    "collapsed": false
   }
  },
  {
   "cell_type": "code",
   "execution_count": 14,
   "outputs": [
    {
     "name": "stdout",
     "output_type": "stream",
     "text": [
      "368:a group of kids playing soccer on a field\n",
      "368:a group of children playing soccer on a field\n",
      "368:a group of young children playing a game of soccer\n",
      "368:a group of young boys playing a game of soccer\n",
      "368:a group of young boys playing soccer on a field\n"
     ]
    }
   ],
   "source": [
    "import warnings\n",
    "warnings.filterwarnings('ignore')\n",
    "device = torch.device('cpu')\n",
    "\n",
    "args = {\n",
    "    'model':'./models/BEST_checkpoint_coco_5_cap_per_img_5_min_word_freq.pth.tar',\n",
    "    'word_map':'./models/WORDMAP_coco_5_cap_per_img_5_min_word_freq.json'\n",
    "}\n",
    "img_path = \"./samplePhoto/\"    #### provide path where image is stored\n",
    "\n",
    "resultsFile = \"sample.txt\"#input(\"Name of output file: \")\n",
    "store = open('./results/' + resultsFile,'w')\n",
    "\n",
    "filename = listdir(img_path)\n",
    "filenames = [f for f in filename if '.jpg' in f or '.png' in f or '.jpeg' in f]\n",
    "\n",
    "\n",
    "\n",
    "# Load model\n",
    "checkpoint = torch.load(args['model'], map_location=torch.device('cpu'))\n",
    "decoder = checkpoint['decoder']\n",
    "decoder = decoder.to(device)\n",
    "decoder.eval()\n",
    "encoder = checkpoint['encoder']\n",
    "encoder = encoder.to(device)\n",
    "encoder.eval()\n",
    "\n",
    "# Load word map (word2idx)\n",
    "with open(args['word_map'], 'r') as j:\n",
    "    word_map = json.load(j)\n",
    "\n",
    "# idx2word\n",
    "rev_word_map = {v: k for k, v in word_map.items()}\n",
    "\n",
    "\n",
    "for i, filename in enumerate(filenames):\n",
    "    try:\n",
    "        complete_seqs, complete_seqs_alpha = caption_image_beam_search1(encoder, decoder, img_path+filename, word_map, beam_size=5)\n",
    "        captions = \"\"\n",
    "        for j in range(len(complete_seqs)):\n",
    "            seq = complete_seqs[j]\n",
    "            sampled_caption = []\n",
    "            for ind in seq[1:]:\n",
    "                word = rev_word_map[ind]\n",
    "                if word == '<end>':\n",
    "                    break\n",
    "                sampled_caption.append(word)\n",
    "            sentence = ' '.join(sampled_caption)\n",
    "            captions = sentence\n",
    "            captions = captions.replace(\".\", \" \")\n",
    "            captions = captions.replace(\"   \", \" \").replace(\"  \", \" \").lower()\n",
    "            # Print out the image and the generated caption\n",
    "            filename = filename.split(\".\")[0]\n",
    "            while filename[0] == \"0\":\n",
    "                filename = filename[1:]\n",
    "            print(filename+\":%s\" % (captions))\n",
    "            store.write(filename+\":\" + captions + \"\\n\")\n",
    "    except KeyboardInterrupt:\n",
    "        store.close()\n",
    "        break\n",
    "store.close()"
   ],
   "metadata": {
    "collapsed": false
   }
  }
 ],
 "metadata": {
  "kernelspec": {
   "display_name": "Python 3",
   "language": "python",
   "name": "python3"
  },
  "language_info": {
   "codemirror_mode": {
    "name": "ipython",
    "version": 3
   },
   "file_extension": ".py",
   "mimetype": "text/x-python",
   "name": "python",
   "nbconvert_exporter": "python",
   "pygments_lexer": "ipython3",
   "version": "3.6.8"
  }
 },
 "nbformat": 4,
 "nbformat_minor": 2
}
