{
 "cells": [
  {
   "cell_type": "code",
   "execution_count": 1,
   "outputs": [],
   "source": [
    "#Dataset\n",
    "'''\n",
    "Retrieve (original file_name without extension, text_data)\n",
    "'''\n",
    "def getDataSet(file_name) -> (str, str):\n",
    "    pass\n",
    "'''\n",
    "Save file with text data, adds \".txt\" extension\n",
    "'''\n",
    "def saveDataSet(file_name, text_data):\n",
    "    pass"
   ],
   "metadata": {
    "collapsed": false
   }
  },
  {
   "cell_type": "code",
   "execution_count": 32,
   "outputs": [
    {
     "name": "stdout",
     "output_type": "stream",
     "text": [
      "GET antonym empty\n",
      "knowledge\n",
      "['fell', 'vanish', 'vaporize', 'wing', 'flee', 'take flight', 'fly sheet', 'rainfly', 'tent-fly', 'tent flap', 'aviate', 'pilot', 'fly front', 'fly ball']\n"
     ]
    }
   ],
   "source": [
    "#Base functions\n",
    "'''\n",
    "This is a base function, meant to assist the actual operators.\n",
    "It returns (new addition to new file name, new data)\n",
    "'''\n",
    "def replaceSubString(dataset : tuple, sub_string) -> (str, str):\n",
    "    pass\n",
    "\n",
    "'''\n",
    "This is a base function, meant to assist the actual operators.\n",
    "It returns (new addition to new file name, new data)\n",
    "'''\n",
    "def replaceWordLists(dataset : tuple, word_list : dict) -> (str, str):\n",
    "    pass\n",
    "\n",
    "import requests, json\n",
    "def getSynonym(word) -> str:\n",
    "    with open(\"synonyms.json\", \"r+\") as f:\n",
    "        local_synonyms = json.load(f)\n",
    "        if word in local_synonyms:\n",
    "            return local_synonyms[word][0]\n",
    "        url = f\"https://wordsapiv1.p.rapidapi.com/words/{word}/synonyms\"\n",
    "\n",
    "        headers = {\n",
    "            \"X-RapidAPI-Key\": \"41b9c2ee17msh295225a18398362p1c732cjsn4afb01c0b61f\",\n",
    "            \"X-RapidAPI-Host\": \"wordsapiv1.p.rapidapi.com\"\n",
    "        }\n",
    "\n",
    "        response = requests.request(\"GET\", url, headers=headers)\n",
    "        synonyms = response.json()['synonyms']\n",
    "        if len(synonyms) is 0:\n",
    "            print(\"GET synonym empty\")\n",
    "            return word\n",
    "        local_synonyms[word] = synonyms\n",
    "        f.seek(0)\n",
    "        f.write((json.dumps(local_synonyms)))\n",
    "        f.truncate()\n",
    "        return synonyms\n",
    "\n",
    "def getAntonym(word) -> str:\n",
    "    with open(\"antonyms.json\", \"r+\") as f:\n",
    "        local_antonyms = json.load(f)\n",
    "        if word in local_antonyms:\n",
    "            return local_antonyms[word][0]\n",
    "        url = f\"https://wordsapiv1.p.rapidapi.com/words/{word}/antonyms\"\n",
    "\n",
    "        headers = {\n",
    "            \"X-RapidAPI-Key\": \"41b9c2ee17msh295225a18398362p1c732cjsn4afb01c0b61f\",\n",
    "            \"X-RapidAPI-Host\": \"wordsapiv1.p.rapidapi.com\"\n",
    "        }\n",
    "\n",
    "        response = requests.request(\"GET\", url, headers=headers)\n",
    "        antonyms = response.json()['antonyms']\n",
    "        if len(antonyms) is 0:\n",
    "            print(f\"GET antonym {word} empty\")\n",
    "            return word\n",
    "        local_antonyms[word] = antonyms\n",
    "        f.seek(0)\n",
    "        f.write((json.dumps(local_antonyms)))\n",
    "        f.truncate()\n",
    "        return antonyms[0]\n",
    "\n",
    "#FromAPI\n",
    "def getRandomWord() -> str:\n",
    "    pass\n",
    "\n",
    "#From web page\n",
    "def getRandomVerb() -> str:\n",
    "    pass\n",
    "\n",
    "def getRandomAdverb() -> str:\n",
    "    pass\n",
    "\n",
    "def getRandomAdjective() -> str:\n",
    "    pass\n",
    "\n",
    "print(getAntonym(\"knowledge\"))\n",
    "print(getSynonym(\"fly\"))"
   ],
   "metadata": {
    "collapsed": false
   }
  },
  {
   "cell_type": "code",
   "execution_count": null,
   "outputs": [],
   "source": [
    "#Mutation Operators\n",
    "'''\n",
    "Saves new file output with added functional name additions\n",
    "'''\n",
    "def misspellWords(dataset : tuple, word_list : dict, per_caption_limit=1):\n",
    "    pass\n",
    "\n",
    "'''\n",
    "Takes an article and adds spaces between to replace\n",
    "'''\n",
    "def replaceArticles(dataset : tuple, articles : list, per_caption_limit=1):\n",
    "    pass\n",
    "\n",
    "def replaceSynonym(dataset : tuple, words_to_replace : list, per_caption_limit=1):\n",
    "    pass\n",
    "\n",
    "def replaceInCaptionRandomSynonym(dataset : tuple, per_caption_limit=1):\n",
    "    pass\n",
    "\n",
    "def replaceInCaptionAntonym(dataset : tuple, words_to_replace : list, per_caption_limit=1):\n",
    "    pass\n",
    "\n",
    "def replaceInCaptionRandomAntonym(dataset : tuple, per_caption_limit=1):\n",
    "    pass\n",
    "\n",
    "def replaceInCaptionRandomAdjective(dataset : tuple, per_caption_limit=1):\n",
    "    pass\n",
    "\n",
    "def replaceInCaptionRandomVerb(dataset : tuple, per_caption_limit=1):\n",
    "    pass\n",
    "\n",
    "def deleteRandomArticle(dataset : tuple, per_caption_limit=1):\n",
    "    pass"
   ],
   "metadata": {
    "collapsed": false
   }
  },
  {
   "cell_type": "code",
   "execution_count": 5,
   "outputs": [
    {
     "name": "stdout",
     "output_type": "stream",
     "text": [
      "{\"word\":\"lovely\",\"synonyms\":[\"adorable\",\"endearing\",\"cover girl\",\"pin-up\"]}\n"
     ]
    }
   ],
   "source": [],
   "metadata": {
    "collapsed": false
   }
  },
  {
   "cell_type": "code",
   "execution_count": null,
   "outputs": [],
   "source": [],
   "metadata": {
    "collapsed": false
   }
  }
 ],
 "metadata": {
  "kernelspec": {
   "display_name": "Python 3",
   "language": "python",
   "name": "python3"
  },
  "language_info": {
   "codemirror_mode": {
    "name": "ipython",
    "version": 2
   },
   "file_extension": ".py",
   "mimetype": "text/x-python",
   "name": "python",
   "nbconvert_exporter": "python",
   "pygments_lexer": "ipython2",
   "version": "2.7.6"
  }
 },
 "nbformat": 4,
 "nbformat_minor": 0
}
