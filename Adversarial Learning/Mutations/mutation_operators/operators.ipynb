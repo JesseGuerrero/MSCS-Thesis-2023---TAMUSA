{
 "cells": [
  {
   "cell_type": "code",
   "execution_count": 5,
   "outputs": [],
   "source": [
    "from mutation_operators.dataset import *\n",
    "from mutation_operators.base_mutators import *\n",
    "from mutation_operators.operators import *"
   ],
   "metadata": {
    "collapsed": false
   }
  },
  {
   "cell_type": "code",
   "execution_count": 6,
   "outputs": [],
   "source": [],
   "metadata": {
    "collapsed": false
   }
  },
  {
   "cell_type": "code",
   "execution_count": 7,
   "outputs": [],
   "source": [
    "from mutation_operators.dataset import *\n",
    "with open(\"../data/humanCOCOTestSmall_new.json\", \"r\") as f:\n",
    "    data = dict(json.load(f))\n",
    "    dataset = Dataset(data, [\"test_\"])\n",
    "    dataset.setRootDir(\"./mutations/\")\n",
    "    wordsList = {\n",
    "        \"of\": \"af\",\n",
    "        \" a \": \" b \"\n",
    "    }\n",
    "    misspellWords(dataset, wordsList, per_caption_limit=3)\n",
    "    dataset.saveToFile()"
   ],
   "metadata": {
    "collapsed": false
   }
  },
  {
   "cell_type": "code",
   "execution_count": null,
   "outputs": [],
   "source": [
    "populateRandomWord(1000)"
   ],
   "metadata": {
    "collapsed": false,
    "pycharm": {
     "is_executing": true
    }
   }
  },
  {
   "cell_type": "code",
   "execution_count": 8,
   "outputs": [],
   "source": [],
   "metadata": {
    "collapsed": false
   }
  }
 ],
 "metadata": {
  "kernelspec": {
   "display_name": "Python 3",
   "language": "python",
   "name": "python3"
  },
  "language_info": {
   "codemirror_mode": {
    "name": "ipython",
    "version": 2
   },
   "file_extension": ".py",
   "mimetype": "text/x-python",
   "name": "python",
   "nbconvert_exporter": "python",
   "pygments_lexer": "ipython2",
   "version": "2.7.6"
  }
 },
 "nbformat": 4,
 "nbformat_minor": 0
}
