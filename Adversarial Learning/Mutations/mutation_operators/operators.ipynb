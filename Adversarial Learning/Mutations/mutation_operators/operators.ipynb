{
 "cells": [
  {
   "cell_type": "code",
   "execution_count": 6,
   "outputs": [],
   "source": [
    "from mutation_operators.dataset import *\n",
    "from mutation_operators.base_mutators import *"
   ],
   "metadata": {
    "collapsed": false
   }
  },
  {
   "cell_type": "code",
   "execution_count": 2,
   "outputs": [],
   "source": [
    "#Mutation Operators\n",
    "'''\n",
    "Saves new file output with added functional name additions\n",
    "'''\n",
    "import random\n",
    "def misspellWords(dataset : Dataset, word_list : dict, mutation=\"misspell\", per_caption_limit=1):\n",
    "    replaceWords(dataset, word_list, per_caption_limit)\n",
    "    dataset.saveDataMutation(mutation)\n",
    "'''\n",
    "Takes an article and adds spaces between to replace\n",
    "'''\n",
    "def replaceArticles(dataset : Dataset, articles : dict, mutation=\"articleSub\", per_caption_limit=1):\n",
    "    replaceWords(dataset, articles, per_caption_limit)\n",
    "    dataset.saveDataMutation(mutation)\n",
    "\n",
    "def replaceSynonym(dataset : Dataset, words_to_replace : list, mutation=\"synonymSub\", per_caption_limit=1):\n",
    "    word_list = {}\n",
    "    for word in words_to_replace:\n",
    "        word_list[word] = getSynonym(word)\n",
    "    replaceWords(dataset, word_list, per_caption_limit)\n",
    "    dataset.saveDataMutation(mutation)\n",
    "\n",
    "def replaceInCaptionRandomSynonym(dataset : Dataset, per_caption_limit=1):\n",
    "    pass\n",
    "\n",
    "def replaceInCaptionAntonym(dataset : Dataset, words_to_replace : list, mutation=\"antonym\", per_caption_limit=1):\n",
    "    word_list = {}\n",
    "    for word in words_to_replace:\n",
    "        word_list[word] = getAntonym(word)\n",
    "    replaceWords(dataset, word_list, per_caption_limit)\n",
    "    dataset.saveDataMutation(mutation)\n",
    "\n",
    "def replaceInCaptionRandomAntonym(dataset : Dataset, per_caption_limit=1):\n",
    "    pass\n",
    "\n",
    "def replaceInCaptionRandomAdjective(dataset : Dataset, per_caption_limit=1):\n",
    "    pass\n",
    "\n",
    "def replaceInCaptionRandomVerb(dataset : Dataset, per_caption_limit=1):\n",
    "    pass\n",
    "\n",
    "def deleteRandomArticle(dataset : Dataset, per_caption_limit=1):\n",
    "    pass"
   ],
   "metadata": {
    "collapsed": false
   }
  },
  {
   "cell_type": "code",
   "execution_count": 5,
   "outputs": [],
   "source": [
    "\n",
    "\n",
    "from mutation_operators.dataset import *\n",
    "with open(\"../data/humanCOCOTestSmall_new.json\", \"r\") as f:\n",
    "    data = dict(json.load(f))\n",
    "    dataset = Dataset(data, [\"test_\"])\n",
    "    dataset.setRootDir(\"./mutations/\")\n",
    "    wordsList = {\n",
    "        \"of\": \"af\",\n",
    "        \" a \": \" b \"\n",
    "    }\n",
    "    misspellWords(dataset, wordsList, per_caption_limit=3)\n",
    "    dataset.saveToFile()"
   ],
   "metadata": {
    "collapsed": false
   }
  },
  {
   "cell_type": "code",
   "execution_count": null,
   "outputs": [],
   "source": [
    "# populateRandomWord(100)"
   ],
   "metadata": {
    "collapsed": false
   }
  },
  {
   "cell_type": "code",
   "execution_count": null,
   "outputs": [],
   "source": [],
   "metadata": {
    "collapsed": false
   }
  }
 ],
 "metadata": {
  "kernelspec": {
   "display_name": "Python 3",
   "language": "python",
   "name": "python3"
  },
  "language_info": {
   "codemirror_mode": {
    "name": "ipython",
    "version": 2
   },
   "file_extension": ".py",
   "mimetype": "text/x-python",
   "name": "python",
   "nbconvert_exporter": "python",
   "pygments_lexer": "ipython2",
   "version": "2.7.6"
  }
 },
 "nbformat": 4,
 "nbformat_minor": 0
}
