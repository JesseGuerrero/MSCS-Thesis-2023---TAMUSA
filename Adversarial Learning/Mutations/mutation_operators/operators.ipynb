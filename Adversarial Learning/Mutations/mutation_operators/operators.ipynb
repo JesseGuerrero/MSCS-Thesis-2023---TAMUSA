{
 "cells": [
  {
   "cell_type": "code",
   "execution_count": 1,
   "outputs": [],
   "source": [
    "from mutation_operators.dataset import *"
   ],
   "metadata": {
    "collapsed": false
   }
  },
  {
   "cell_type": "code",
   "execution_count": 1,
   "outputs": [],
   "source": [],
   "metadata": {
    "collapsed": false
   }
  },
  {
   "cell_type": "code",
   "execution_count": 10,
   "outputs": [
    {
     "name": "stdout",
     "output_type": "stream",
     "text": [
      "Study\n"
     ]
    }
   ],
   "source": [
    "#Base functions\n",
    "'''\n",
    "This is a base function, meant to assist the actual operators.\n",
    "It returns (new addition to new file name, new data)\n",
    "'''\n",
    "def replaceSubString(dataset : Dataset, substring, replacement, count=-1):\n",
    "    for key, captions in dataset.items():\n",
    "        captionsBuffer = []\n",
    "        for caption in captions:\n",
    "            captions : str\n",
    "            captionsBuffer.append(caption.replace(substring, replacement, count))\n",
    "        dataset[key] = captionsBuffer\n",
    "\n",
    "'''\n",
    "This is a base function, meant to assist the actual operators.\n",
    "It returns (new addition to new file name, new data)\n",
    "'''\n",
    "def replaceWordLists(dataset : Dataset, word_list : dict):\n",
    "    for key, captions in dataset.items():\n",
    "        captionsBuffer = []\n",
    "        for caption in captions:\n",
    "            caption : str\n",
    "            for word, replacement in word_list:\n",
    "                caption = caption.replace(word, replacement)\n",
    "            captionsBuffer.append(caption)\n",
    "        dataset[key] = captionsBuffer\n",
    "\n",
    "import requests, json\n",
    "def getSynonym(word) -> str:\n",
    "    with open(\"./mutation_data/synonyms.json\", \"r+\") as f:\n",
    "        local_synonyms = json.load(f)\n",
    "        if word in local_synonyms:\n",
    "            return local_synonyms[word][0]\n",
    "        url = f\"https://wordsapiv1.p.rapidapi.com/words/{word}/synonyms\"\n",
    "\n",
    "        headers = {\n",
    "            \"X-RapidAPI-Key\": \"41b9c2ee17msh295225a18398362p1c732cjsn4afb01c0b61f\",\n",
    "            \"X-RapidAPI-Host\": \"wordsapiv1.p.rapidapi.com\"\n",
    "        }\n",
    "\n",
    "        response = requests.request(\"GET\", url, headers=headers)\n",
    "        synonyms = response.json()['synonyms']\n",
    "        if len(synonyms) is 0:\n",
    "            print(\"GET synonym empty\")\n",
    "            return word\n",
    "        local_synonyms[word] = synonyms\n",
    "        f.seek(0)\n",
    "        f.write((json.dumps(local_synonyms)))\n",
    "        f.truncate()\n",
    "        return synonyms\n",
    "\n",
    "def getAntonym(word) -> str:\n",
    "    with open(\"./mutation_data/antonyms.json\", \"r+\") as f:\n",
    "        local_antonyms = json.load(f)\n",
    "        if word in local_antonyms:\n",
    "            return local_antonyms[word][0]\n",
    "        url = f\"https://wordsapiv1.p.rapidapi.com/words/{word}/antonyms\"\n",
    "\n",
    "        headers = {\n",
    "            \"X-RapidAPI-Key\": \"41b9c2ee17msh295225a18398362p1c732cjsn4afb01c0b61f\",\n",
    "            \"X-RapidAPI-Host\": \"wordsapiv1.p.rapidapi.com\"\n",
    "        }\n",
    "\n",
    "        response = requests.request(\"GET\", url, headers=headers)\n",
    "        antonyms = response.json()['antonyms']\n",
    "        if len(antonyms) is 0:\n",
    "            print(f\"GET antonym {word} empty\")\n",
    "            return word\n",
    "        local_antonyms[word] = antonyms\n",
    "        f.seek(0)\n",
    "        f.write((json.dumps(local_antonyms)))\n",
    "        f.truncate()\n",
    "        return antonyms[0]\n",
    "\n",
    "#FromAPI\n",
    "def getRandomWord() -> str:\n",
    "    url = \"https://wordsapiv1.p.rapidapi.com/words/\"\n",
    "    querystring = {\"random\":\"true\"}\n",
    "    headers = {\n",
    "        \"X-RapidAPI-Key\": \"41b9c2ee17msh295225a18398362p1c732cjsn4afb01c0b61f\",\n",
    "        \"X-RapidAPI-Host\": \"wordsapiv1.p.rapidapi.com\"\n",
    "    }\n",
    "    response = requests.request(\"GET\", url, headers=headers, params=querystring)\n",
    "    return response.text\n",
    "\n",
    "#From json files\n",
    "import random\n",
    "def getRandomVerb() -> str:\n",
    "    with open(\"./mutation_data/random_verbs.json\", \"r\") as file:\n",
    "        verbs = dict(json.load(file))['verb']\n",
    "        verbs : list\n",
    "        return random.choice(verbs)\n",
    "\n",
    "\n",
    "def getRandomAdverb() -> str:\n",
    "    with open(\"./mutation_data/random_adverbs.json\", \"r\") as file:\n",
    "        adverbs = dict(json.load(file))['adverb']\n",
    "        adverbs : list\n",
    "        return random.choice(adverbs)\n",
    "\n",
    "def getRandomAdjective() -> str:\n",
    "    with open(\"./mutation_data/random_adjectivea.json\", \"r\") as file:\n",
    "        adjectives = dict(json.load(file))['adjective']\n",
    "        adjectives : list\n",
    "        return random.choice(adjectives)"
   ],
   "metadata": {
    "collapsed": false
   }
  },
  {
   "cell_type": "code",
   "execution_count": 3,
   "outputs": [],
   "source": [
    "#Mutation Operators\n",
    "'''\n",
    "Saves new file output with added functional name additions\n",
    "'''\n",
    "def misspellWords(dataset : tuple, word_list : dict, per_caption_limit=1):\n",
    "    pass\n",
    "\n",
    "'''\n",
    "Takes an article and adds spaces between to replace\n",
    "'''\n",
    "def replaceArticles(dataset : tuple, articles : list, per_caption_limit=1):\n",
    "    pass\n",
    "\n",
    "def replaceSynonym(dataset : tuple, words_to_replace : list, per_caption_limit=1):\n",
    "    pass\n",
    "\n",
    "def replaceInCaptionRandomSynonym(dataset : tuple, per_caption_limit=1):\n",
    "    pass\n",
    "\n",
    "def replaceInCaptionAntonym(dataset : tuple, words_to_replace : list, per_caption_limit=1):\n",
    "    pass\n",
    "\n",
    "def replaceInCaptionRandomAntonym(dataset : tuple, per_caption_limit=1):\n",
    "    pass\n",
    "\n",
    "def replaceInCaptionRandomAdjective(dataset : tuple, per_caption_limit=1):\n",
    "    pass\n",
    "\n",
    "def replaceInCaptionRandomVerb(dataset : tuple, per_caption_limit=1):\n",
    "    pass\n",
    "\n",
    "def deleteRandomArticle(dataset : tuple, per_caption_limit=1):\n",
    "    pass"
   ],
   "metadata": {
    "collapsed": false
   }
  },
  {
   "cell_type": "code",
   "execution_count": 3,
   "outputs": [],
   "source": [],
   "metadata": {
    "collapsed": false
   }
  },
  {
   "cell_type": "code",
   "execution_count": 6,
   "outputs": [],
   "source": [
    "from mutation_operators.dataset import *\n",
    "with open(\"../data/humanCOCOTestSmall.txt\", \"r\") as f:\n",
    "    data = parseTxt1ByCaption(f.readlines(), False)\n",
    "    dataset = Dataset(data, [\"test\"])\n",
    "    word_list = {\n",
    "        \"hey\" : \"whats up\",\n",
    "        \"yikes\" : \"yozzas\",\n",
    "        \"a\" : \"aa\"\n",
    "    }\n",
    "    replaceWordLists(dataset, word_list)\n",
    "\n",
    "    dataset.setRootDir(\"./mutations/\")\n",
    "    # print(dataset)\n",
    "    dataset.saveToFile()"
   ],
   "metadata": {
    "collapsed": false
   }
  },
  {
   "cell_type": "code",
   "execution_count": 4,
   "outputs": [],
   "source": [],
   "metadata": {
    "collapsed": false
   }
  }
 ],
 "metadata": {
  "kernelspec": {
   "display_name": "Python 3",
   "language": "python",
   "name": "python3"
  },
  "language_info": {
   "codemirror_mode": {
    "name": "ipython",
    "version": 2
   },
   "file_extension": ".py",
   "mimetype": "text/x-python",
   "name": "python",
   "nbconvert_exporter": "python",
   "pygments_lexer": "ipython2",
   "version": "2.7.6"
  }
 },
 "nbformat": 4,
 "nbformat_minor": 0
}
