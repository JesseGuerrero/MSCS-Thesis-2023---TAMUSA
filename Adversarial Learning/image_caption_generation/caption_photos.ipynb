{
 "cells": [
  {
   "cell_type": "code",
   "execution_count": 6,
   "metadata": {
    "colab": {},
    "colab_type": "code",
    "id": "xDwlCAOMRG5q",
    "pycharm": {
     "name": "#%%\n"
    }
   },
   "outputs": [],
   "source": [
    "# Requires Python 3.7 & Tensorflow version 1.13.2\n",
    "#!pip install tensorflow==1.13.2\n",
    "#############################################################\n",
    "##\n",
    "##\n",
    "## Download Model & photos and place the model in \"content\" and photos in \"photos\" folders\n",
    "##                  (Link below)\n",
    "##\n",
    "##############################################################\n",
    "#Model: https://mega.nz/file/TkMkyYgC#NpL8WcKHMsYEMf-QCikFuIKk3A7_061KbXuziCraPZs\n",
    "#COCO photos: http://images.cocodataset.org/zips/train2017.zip"
   ]
  },
  {
   "cell_type": "code",
   "execution_count": 7,
   "metadata": {
    "colab": {},
    "colab_type": "code",
    "id": "-ErYFuETaEGX",
    "pycharm": {
     "name": "#%%\n"
    }
   },
   "outputs": [],
   "source": [
    "from __future__ import absolute_import\n",
    "from __future__ import division\n",
    "from __future__ import print_function\n",
    "\n",
    "import math\n",
    "import os\n",
    "from os import listdir, path\n",
    "\n",
    "import tensorflow as tf\n",
    "import cv2\n",
    "import numpy as np\n",
    "import matplotlib.pyplot as plt\n",
    "from IPython import display\n",
    "\n",
    "import PIL.Image\n",
    "import PIL.ImageOps\n",
    "import PIL.ImageFont\n",
    "import PIL.ImageDraw\n",
    "import textwrap\n",
    "from io import BytesIO\n",
    "\n",
    "from im2txt import configuration\n",
    "from im2txt import inference_wrapper\n",
    "from im2txt.inference_utils import caption_generator\n",
    "from im2txt.inference_utils import vocabulary"
   ]
  },
  {
   "cell_type": "code",
   "execution_count": 8,
   "metadata": {
    "colab": {},
    "colab_type": "code",
    "id": "fN-tgbJMbNHt",
    "pycharm": {
     "name": "#%%\n"
    }
   },
   "outputs": [
    {
     "name": "stdout",
     "output_type": "stream",
     "text": [
      "INFO:tensorflow:Building model.\n",
      "INFO:tensorflow:Initializing vocabulary from file: ./content/word_counts2.txt\n",
      "INFO:tensorflow:Created vocabulary with 11520 words\n",
      "INFO:tensorflow:Loading model from checkpoint: ./content/model.ckpt-2000000\n",
      "INFO:tensorflow:Restoring parameters from ./content/model.ckpt-2000000\n",
      "INFO:tensorflow:Successfully loaded checkpoint: model.ckpt-2000000\n"
     ]
    }
   ],
   "source": [
    "import os\n",
    "import glob\n",
    "\n",
    "# Get a list of all the file paths that ends with .txt from in specified directory\n",
    "fileList = glob.glob('./content/model.ckpt-2000000.*')\n",
    "# Iterate over the list of filepaths & remove each file.\n",
    "for filePath in fileList:\n",
    "    try:\n",
    "        os.remove(filePath)\n",
    "    except:\n",
    "        print(\"Error while deleting file : \", filePath)\n",
    "\n",
    "# Choose the trained model --> current is 2\n",
    "model_number = \"2\"\n",
    "model_path = \"./content/model.ckpt-\"+model_number+\"000000\"   # Give model path\n",
    "vocab_path = \"./content/word_counts\"+model_number+\".txt\"     # Give word_counts file path\n",
    "tf.logging.set_verbosity(tf.logging.INFO)\n",
    "\n",
    "# Build the inference graph.\n",
    "g = tf.Graph()\n",
    "with g.as_default():\n",
    "    model = inference_wrapper.InferenceWrapper()\n",
    "    restore_fn = model.build_graph_from_config(configuration.ModelConfig(), model_path)\n",
    "g.finalize()\n",
    "\n",
    "# Create the vocabulary.\n",
    "vocab = vocabulary.Vocabulary(vocab_path) \n",
    "\n",
    "#######################################################\n",
    "### if tensorflow version is <1.13.2 then you have to check variables name as per tensorflow version\n",
    "\n",
    "OLD_CHECKPOINT_FILE = \"./content/model.ckpt-2000000\"\n",
    "NEW_CHECKPOINT_FILE = \"./content/model.ckpt-2000000\"\n",
    "\n",
    "import tensorflow as tf\n",
    "vars_to_rename = {\n",
    "    \"lstm/BasicLSTMCell/Linear/Matrix\": \"lstm/basic_lstm_cell/kernel\",\n",
    "    \"lstm/BasicLSTMCell/Linear/Bias\": \"lstm/basic_lstm_cell/bias\",\n",
    "}\n",
    "new_checkpoint_vars = {}\n",
    "reader = tf.train.NewCheckpointReader(OLD_CHECKPOINT_FILE)\n",
    "for old_name in reader.get_variable_to_shape_map():\n",
    "  if old_name in vars_to_rename:\n",
    "    new_name = vars_to_rename[old_name]\n",
    "  else:\n",
    "    new_name = old_name\n",
    "  new_checkpoint_vars[new_name] = tf.Variable(reader.get_tensor(old_name))\n",
    "\n",
    "init = tf.global_variables_initializer()\n",
    "saver = tf.train.Saver(new_checkpoint_vars)\n",
    "\n",
    "with tf.Session() as sess:\n",
    "  sess.run(init)\n",
    "  saver.save(sess, NEW_CHECKPOINT_FILE)\n",
    "\n",
    "#######################################################\n",
    "\n",
    "sess = tf.Session(graph=g)\n",
    "# Load the model from checkpoint.\n",
    "restore_fn(sess)\n",
    "\n",
    "# Prepare the caption generator. Here we are implicitly using the default\n",
    "# beam search parameters. See caption_generator.py for a description of the\n",
    "# available beam search parameters.\n",
    "generator = caption_generator.CaptionGenerator(model, vocab, beam_size=5)"
   ]
  },
  {
   "cell_type": "code",
   "execution_count": 9,
   "metadata": {
    "colab": {},
    "colab_type": "code",
    "id": "DIZLzNZIbgU-",
    "pycharm": {
     "name": "#%%\n"
    }
   },
   "outputs": [
    {
     "name": "stdout",
     "output_type": "stream",
     "text": [
      "0:a man in a suit and tie is smiling a man in a suit and tie posing for a picture a man in a suit and tie is smiling a man in a suit and tie posing for the camera a man in a suit and tie posing for a photo \n",
      "1:a man with a beard wearing a tie a man wearing glasses and a tie is smiling a man wearing glasses and a tie in a room a man with a beard wearing a tie a man wearing glasses and a tie is smiling \n",
      "2:an airplane is flying in the sky an airplane is flying through the sky an airplane flying in the air with a sky background an airplane flying in the sky with a sky background an airplane is flying in the sky with clouds \n",
      "3:a statue of a man holding a teddy bear a statue of a man holding a baseball bat a statue of a man holding a teddy bear a statue of a man holding a giant teddy bear a statue of a man standing next to a statue \n"
     ]
    }
   ],
   "source": [
    "image_path = \"./photos/\"    #### provide path where image is stored\n",
    "filename = listdir(image_path)\n",
    "filenames = [f for f in filename if '.jpg' in f or '.png' in f or '.jpeg' in f]\n",
    "store = open('./content/results/results.txt','w')   #### directory to store captions file\n",
    "\n",
    "for i, file in enumerate(filenames):\n",
    "    try:\n",
    "        img = PIL.Image.open(image_path+file).convert('RGBA')\n",
    "        box = PIL.Image.new('RGBA', img.size, (255,255,255,0))\n",
    "        draw = PIL.ImageDraw.Draw(box)\n",
    "        image = open(image_path+file,'rb').read() # Read the image as bytes\n",
    "        captions = generator.beam_search(sess, image)\n",
    "        syntheticText = \"\"\n",
    "        for caption in captions:\n",
    "            # Ignore begin and end words.\n",
    "            sentence = [vocab.id_to_word(w) for w in caption.sentence[1:-1]]\n",
    "            sentence = \" \".join(sentence)\n",
    "            syntheticText = syntheticText + sentence + \" \"\n",
    "        syntheticText = syntheticText.replace(\".\", \" \")\n",
    "        syntheticText = syntheticText.replace(\"   \", \" \").replace(\"  \", \" \")\n",
    "        print(str(i)+\":%s\" % (syntheticText))\n",
    "        store.write(str(i)+\":\" + syntheticText + \"\\n\")\n",
    "    except KeyboardInterrupt:\n",
    "        store.close()\n",
    "        break\n",
    "store.close()"
   ]
  }
 ],
 "metadata": {
  "colab": {
   "collapsed_sections": [],
   "name": "imageCaptioning.ipynb",
   "private_outputs": true,
   "provenance": []
  },
  "kernelspec": {
   "display_name": "Python 3",
   "language": "python",
   "name": "python3"
  },
  "language_info": {
   "codemirror_mode": {
    "name": "ipython",
    "version": 3
   },
   "file_extension": ".py",
   "mimetype": "text/x-python",
   "name": "python",
   "nbconvert_exporter": "python",
   "pygments_lexer": "ipython3",
   "version": "3.7.13"
  }
 },
 "nbformat": 4,
 "nbformat_minor": 1
}