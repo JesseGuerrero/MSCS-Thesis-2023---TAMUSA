{
 "cells": [
  {
   "cell_type": "code",
   "execution_count": 1,
   "metadata": {
    "colab": {},
    "colab_type": "code",
    "id": "xDwlCAOMRG5q"
   },
   "outputs": [],
   "source": [
    "# Requires Python 3.7 & Tensorflow version 1.13.2\n",
    "#!pip install tensorflow==1.13.2\n",
    "#!pip install pillow==9.2.0\n",
    "#!pip install numpy\n",
    "#############################################################\n",
    "##\n",
    "##\n",
    "## Download Model & photos and place the model in \"content\" and photos in \"photos\" folders\n",
    "##                  (Link below)\n",
    "##\n",
    "##############################################################\n",
    "#Model: https://mega.nz/file/TkMkyYgC#NpL8WcKHMsYEMf-QCikFuIKk3A7_061KbXuziCraPZs\n",
    "#COCO photos: http://images.cocodataset.org/zips/train2017.zip"
   ]
  },
  {
   "cell_type": "code",
   "execution_count": 2,
   "metadata": {
    "colab": {},
    "colab_type": "code",
    "id": "-ErYFuETaEGX"
   },
   "outputs": [
    {
     "name": "stderr",
     "output_type": "stream",
     "text": [
      "C:\\Users\\jesse\\anaconda3\\envs\\ImageCaption1\\lib\\site-packages\\tensorflow\\python\\framework\\dtypes.py:526: FutureWarning: Passing (type, 1) or '1type' as a synonym of type is deprecated; in a future version of numpy, it will be understood as (type, (1,)) / '(1,)type'.\n",
      "  _np_qint8 = np.dtype([(\"qint8\", np.int8, 1)])\n",
      "C:\\Users\\jesse\\anaconda3\\envs\\ImageCaption1\\lib\\site-packages\\tensorflow\\python\\framework\\dtypes.py:527: FutureWarning: Passing (type, 1) or '1type' as a synonym of type is deprecated; in a future version of numpy, it will be understood as (type, (1,)) / '(1,)type'.\n",
      "  _np_quint8 = np.dtype([(\"quint8\", np.uint8, 1)])\n",
      "C:\\Users\\jesse\\anaconda3\\envs\\ImageCaption1\\lib\\site-packages\\tensorflow\\python\\framework\\dtypes.py:528: FutureWarning: Passing (type, 1) or '1type' as a synonym of type is deprecated; in a future version of numpy, it will be understood as (type, (1,)) / '(1,)type'.\n",
      "  _np_qint16 = np.dtype([(\"qint16\", np.int16, 1)])\n",
      "C:\\Users\\jesse\\anaconda3\\envs\\ImageCaption1\\lib\\site-packages\\tensorflow\\python\\framework\\dtypes.py:529: FutureWarning: Passing (type, 1) or '1type' as a synonym of type is deprecated; in a future version of numpy, it will be understood as (type, (1,)) / '(1,)type'.\n",
      "  _np_quint16 = np.dtype([(\"quint16\", np.uint16, 1)])\n",
      "C:\\Users\\jesse\\anaconda3\\envs\\ImageCaption1\\lib\\site-packages\\tensorflow\\python\\framework\\dtypes.py:530: FutureWarning: Passing (type, 1) or '1type' as a synonym of type is deprecated; in a future version of numpy, it will be understood as (type, (1,)) / '(1,)type'.\n",
      "  _np_qint32 = np.dtype([(\"qint32\", np.int32, 1)])\n",
      "C:\\Users\\jesse\\anaconda3\\envs\\ImageCaption1\\lib\\site-packages\\tensorflow\\python\\framework\\dtypes.py:535: FutureWarning: Passing (type, 1) or '1type' as a synonym of type is deprecated; in a future version of numpy, it will be understood as (type, (1,)) / '(1,)type'.\n",
      "  np_resource = np.dtype([(\"resource\", np.ubyte, 1)])\n",
      "C:\\Users\\jesse\\AppData\\Roaming\\Python\\Python37\\site-packages\\sklearn\\utils\\validation.py:37: DeprecationWarning: distutils Version classes are deprecated. Use packaging.version instead.\n",
      "  LARGE_SPARSE_SUPPORTED = LooseVersion(scipy_version) >= '0.14.0'\n"
     ]
    }
   ],
   "source": [
    "from __future__ import absolute_import\n",
    "from __future__ import division\n",
    "from __future__ import print_function\n",
    "\n",
    "import math\n",
    "import os\n",
    "from os import listdir, path\n",
    "\n",
    "import tensorflow as tf\n",
    "import cv2\n",
    "import numpy as np\n",
    "import matplotlib.pyplot as plt\n",
    "from IPython import display\n",
    "\n",
    "import PIL.Image\n",
    "import PIL.ImageOps\n",
    "import PIL.ImageFont\n",
    "import PIL.ImageDraw\n",
    "import textwrap\n",
    "from io import BytesIO\n",
    "\n",
    "from im2txt import configuration\n",
    "from im2txt import inference_wrapper\n",
    "from im2txt.inference_utils import caption_generator\n",
    "from im2txt.inference_utils import vocabulary"
   ]
  },
  {
   "cell_type": "code",
   "execution_count": 3,
   "metadata": {
    "colab": {},
    "colab_type": "code",
    "id": "fN-tgbJMbNHt"
   },
   "outputs": [
    {
     "name": "stdout",
     "output_type": "stream",
     "text": [
      "INFO:tensorflow:Building model.\n",
      "WARNING:tensorflow:From D:\\OneDrive - Texas A&M University-San Antonio\\Learning\\Programming\\Thesis\\Adversarial Learning\\image_caption_generation1\\im2txt\\show_and_tell_model.py:55: TFRecordReader.__init__ (from tensorflow.python.ops.io_ops) is deprecated and will be removed in a future version.\n",
      "Instructions for updating:\n",
      "Queue-based input pipelines have been replaced by `tf.data`. Use `tf.data.TFRecordDataset`.\n",
      "WARNING:tensorflow:From C:\\Users\\jesse\\anaconda3\\envs\\ImageCaption1\\lib\\site-packages\\tensorflow\\python\\ops\\control_flow_ops.py:3632: colocate_with (from tensorflow.python.framework.ops) is deprecated and will be removed in a future version.\n",
      "Instructions for updating:\n",
      "Colocations handled automatically by placer.\n",
      "WARNING:tensorflow:From C:\\Users\\jesse\\anaconda3\\envs\\ImageCaption1\\lib\\site-packages\\tensorflow\\contrib\\layers\\python\\layers\\layers.py:1624: flatten (from tensorflow.python.layers.core) is deprecated and will be removed in a future version.\n",
      "Instructions for updating:\n",
      "Use keras.layers.flatten instead.\n",
      "WARNING:tensorflow:From C:\\Users\\jesse\\anaconda3\\envs\\ImageCaption1\\lib\\site-packages\\tensorflow\\contrib\\layers\\python\\layers\\summaries.py:95: to_float (from tensorflow.python.ops.math_ops) is deprecated and will be removed in a future version.\n",
      "Instructions for updating:\n",
      "Use tf.cast instead.\n",
      "WARNING:tensorflow:From D:\\OneDrive - Texas A&M University-San Antonio\\Learning\\Programming\\Thesis\\Adversarial Learning\\image_caption_generation1\\im2txt\\show_and_tell_model.py:248: BasicLSTMCell.__init__ (from tensorflow.python.ops.rnn_cell_impl) is deprecated and will be removed in a future version.\n",
      "Instructions for updating:\n",
      "This class is equivalent as tf.keras.layers.LSTMCell, and will be replaced by that in Tensorflow 2.0.\n",
      "INFO:tensorflow:Initializing vocabulary from file: ./content/word_counts2.txt\n",
      "INFO:tensorflow:Created vocabulary with 11520 words\n",
      "INFO:tensorflow:Loading model from checkpoint: ./content/model.ckpt-2000000\n",
      "WARNING:tensorflow:From C:\\Users\\jesse\\anaconda3\\envs\\ImageCaption1\\lib\\site-packages\\tensorflow\\python\\training\\saver.py:1266: checkpoint_exists (from tensorflow.python.training.checkpoint_management) is deprecated and will be removed in a future version.\n",
      "Instructions for updating:\n",
      "Use standard file APIs to check for files with this prefix.\n",
      "INFO:tensorflow:Restoring parameters from ./content/model.ckpt-2000000\n",
      "INFO:tensorflow:Successfully loaded checkpoint: model.ckpt-2000000\n"
     ]
    }
   ],
   "source": [
    "import os\n",
    "import glob\n",
    "\n",
    "# Get a list of all the file paths that ends with .txt from in specified directory\n",
    "fileList = glob.glob('./content/model.ckpt-2000000.*')\n",
    "# Iterate over the list of filepaths & remove each file.\n",
    "for filePath in fileList:\n",
    "    try:\n",
    "        os.remove(filePath)\n",
    "    except:\n",
    "        print(\"Error while deleting file : \", filePath)\n",
    "\n",
    "# Choose the trained model --> current is 2\n",
    "model_number = \"2\"\n",
    "model_path = \"./content/model.ckpt-\"+model_number+\"000000\"   # Give model path\n",
    "vocab_path = \"./content/word_counts\"+model_number+\".txt\"     # Give word_counts file path\n",
    "tf.logging.set_verbosity(tf.logging.INFO)\n",
    "\n",
    "# Build the inference graph.\n",
    "g = tf.Graph()\n",
    "with g.as_default():\n",
    "    model = inference_wrapper.InferenceWrapper()\n",
    "    restore_fn = model.build_graph_from_config(configuration.ModelConfig(), model_path)\n",
    "g.finalize()\n",
    "\n",
    "# Create the vocabulary.\n",
    "vocab = vocabulary.Vocabulary(vocab_path) \n",
    "\n",
    "#######################################################\n",
    "### if tensorflow version is <1.13.2 then you have to check variables name as per tensorflow version\n",
    "\n",
    "OLD_CHECKPOINT_FILE = \"./content/model.ckpt-2000000\"\n",
    "NEW_CHECKPOINT_FILE = \"./content/model.ckpt-2000000\"\n",
    "\n",
    "import tensorflow as tf\n",
    "vars_to_rename = {\n",
    "    \"lstm/BasicLSTMCell/Linear/Matrix\": \"lstm/basic_lstm_cell/kernel\",\n",
    "    \"lstm/BasicLSTMCell/Linear/Bias\": \"lstm/basic_lstm_cell/bias\",\n",
    "}\n",
    "new_checkpoint_vars = {}\n",
    "reader = tf.train.NewCheckpointReader(OLD_CHECKPOINT_FILE)\n",
    "for old_name in reader.get_variable_to_shape_map():\n",
    "  if old_name in vars_to_rename:\n",
    "    new_name = vars_to_rename[old_name]\n",
    "  else:\n",
    "    new_name = old_name\n",
    "  new_checkpoint_vars[new_name] = tf.Variable(reader.get_tensor(old_name))\n",
    "\n",
    "init = tf.global_variables_initializer()\n",
    "saver = tf.train.Saver(new_checkpoint_vars)\n",
    "\n",
    "with tf.Session() as sess:\n",
    "  sess.run(init)\n",
    "  saver.save(sess, NEW_CHECKPOINT_FILE)\n",
    "\n",
    "#######################################################\n",
    "\n",
    "sess = tf.Session(graph=g)\n",
    "# Load the model from checkpoint.\n",
    "restore_fn(sess)\n",
    "\n",
    "# Prepare the caption generator. Here we are implicitly using the default\n",
    "# beam search parameters. See caption_generator.py for a description of the\n",
    "# available beam search parameters.\n",
    "generator = caption_generator.CaptionGenerator(model, vocab, beam_size=5)"
   ]
  },
  {
   "cell_type": "code",
   "execution_count": 4,
   "metadata": {
    "colab": {},
    "colab_type": "code",
    "id": "DIZLzNZIbgU-"
   },
   "outputs": [
    {
     "name": "stdout",
     "output_type": "stream",
     "text": [
      "368:a group of young men playing a game of soccer \n",
      "368:a group of young boys playing a game of soccer \n",
      "368:a group of kids playing soccer on a field\n",
      "368:a group of boys playing soccer on a field \n",
      "368:a group of kids playing soccer on a field \n"
     ]
    }
   ],
   "source": [
    "image_path = \"./samplePhoto/\"    #### provide path where image is stored\n",
    "filename = listdir(image_path)\n",
    "filenames = [f for f in filename if '.jpg' in f or '.png' in f or '.jpeg' in f]\n",
    "resultsFile = input(\"Name of output file: \")\n",
    "store = open('./content/results/' + resultsFile,'w')   #### directory to store captions file\n",
    "\n",
    "for i, file in enumerate(filenames):\n",
    "    try:\n",
    "        img = PIL.Image.open(image_path+file).convert('RGBA')\n",
    "        box = PIL.Image.new('RGBA', img.size, (255,255,255,0))\n",
    "        draw = PIL.ImageDraw.Draw(box)\n",
    "        image = open(image_path+file,'rb').read() # Read the image as bytes\n",
    "        captions = generator.beam_search(sess, image)\n",
    "        syntheticText = \"\"\n",
    "        for caption in captions:\n",
    "            # Ignore begin and end words.\n",
    "            sentence = [vocab.id_to_word(w) for w in caption.sentence[1:-1]]\n",
    "            sentence = \" \".join(sentence)\n",
    "            syntheticText = sentence\n",
    "            syntheticText = syntheticText.replace(\".\", \" \")\n",
    "            syntheticText = syntheticText.replace(\"   \", \" \").replace(\"  \", \" \").lower()\n",
    "            file = file.split(\".\")[0]\n",
    "            while file[0] == \"0\":\n",
    "                file = file[1:]\n",
    "            print(file+\":%s\" % (syntheticText))\n",
    "            store.write(file+\":\" + syntheticText + \"\\n\")\n",
    "    except KeyboardInterrupt:\n",
    "        store.close()\n",
    "        break\n",
    "store.close()"
   ]
  }
 ],
 "metadata": {
  "colab": {
   "collapsed_sections": [],
   "name": "imageCaptioning.ipynb",
   "private_outputs": true,
   "provenance": []
  },
  "kernelspec": {
   "display_name": "Python 3",
   "language": "python",
   "name": "python3"
  },
  "language_info": {
   "codemirror_mode": {
    "name": "ipython",
    "version": 3
   },
   "file_extension": ".py",
   "mimetype": "text/x-python",
   "name": "python",
   "nbconvert_exporter": "python",
   "pygments_lexer": "ipython3",
   "version": "3.7.13"
  }
 },
 "nbformat": 4,
 "nbformat_minor": 1
}
